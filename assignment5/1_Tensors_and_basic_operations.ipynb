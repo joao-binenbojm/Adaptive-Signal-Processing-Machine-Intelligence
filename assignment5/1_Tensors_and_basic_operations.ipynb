{
 "cells": [
  {
   "cell_type": "code",
   "execution_count": 4,
   "metadata": {},
   "outputs": [],
   "source": [
    "%load_ext autoreload\n",
    "%autoreload 2\n",
    "%matplotlib inline"
   ]
  },
  {
   "cell_type": "code",
   "execution_count": 5,
   "metadata": {},
   "outputs": [],
   "source": [
    "import numpy as np\n",
    "import matplotlib.pyplot as plt\n",
    "from hottbox.core import Tensor"
   ]
  },
  {
   "cell_type": "markdown",
   "metadata": {
    "toc-hr-collapsed": false
   },
   "source": [
    "[Return to Table of Contents](./0_Table_of_contents.ipynb)"
   ]
  },
  {
   "cell_type": "markdown",
   "metadata": {
    "toc-hr-collapsed": false
   },
   "source": [
    "# Tensors and basic operations"
   ]
  },
  {
   "cell_type": "markdown",
   "metadata": {
    "toc-hr-collapsed": true
   },
   "source": [
    "<img src=\"./imgs/tensors_dogs.jpg\" alt=\"Drawing\" style=\"width: 500px;\"/>\n",
    "\n",
    "A tensor is a multi-dimenaional array of data where each dimension is conventionally referred to as the **mode**. Tensor order is defined by the number of its modes which is equivivalent to the number of indices required to identify a particular entry of a multi-dimensional array. For ease of visualisation and compact notation, we consider a third order tensor $\\mathbf{\\underline{X}} \\in \\mathbb{R}^{I \\times J \\times K}$. Thus, an element of such a tensor, $\\mathbf{\\underline{X}} \\in \\mathbb{R}^{I \\times J \\times K}$, can be written in a general form as:\n",
    "\n",
    "$$ x_{ijk} = \\mathbf{\\underline{X}}[i, j, k]$$\n",
    "\n",
    "> **Note:** In order to be consistent with Python indexing, count of modes and elements within starts from zeros.\n",
    "\n",
    "Creation of a tensor starts with a formation of a multidimensional array of data."
   ]
  },
  {
   "cell_type": "code",
   "execution_count": 6,
   "metadata": {},
   "outputs": [
    {
     "name": "stdout",
     "output_type": "stream",
     "text": [
      "This tensor is of order 3 and consists of 24 elements.\n",
      "Sizes and names of its modes are (2, 3, 4) and ['mode-0', 'mode-1', 'mode-2'] respectively.\n"
     ]
    },
    {
     "data": {
      "text/plain": [
       "array([[[ 0,  1,  2,  3],\n",
       "        [ 4,  5,  6,  7],\n",
       "        [ 8,  9, 10, 11]],\n",
       "\n",
       "       [[12, 13, 14, 15],\n",
       "        [16, 17, 18, 19],\n",
       "        [20, 21, 22, 23]]])"
      ]
     },
     "execution_count": 6,
     "metadata": {},
     "output_type": "execute_result"
    }
   ],
   "source": [
    "# Create 3-d array of data\n",
    "array_3d = np.arange(24).reshape((2, 3, 4))\n",
    "\n",
    "# Create tensor\n",
    "tensor = Tensor(array_3d)\n",
    "\n",
    "# Result preview\n",
    "print(tensor)\n",
    "tensor.data"
   ]
  },
  {
   "cell_type": "markdown",
   "metadata": {
    "toc-hr-collapsed": true
   },
   "source": [
    "## **Assigment 1**\n",
    "\n",
    "1. Create a tensor of order 5 (of any shape) and with all its values equal to 5. Then, calculate its Frobenious norm. \n",
    "2. Construct several tensors of orders varying from 3 to 20, with the size of each dimension equal to 2. Plot the relation between an order of a tensor and the number of its elements.\n",
    "3. Construct several tensors of order 3 with the size of each dimension varying from 3 to 15. Plot the relation between the size of dimensions of a tensor and the number of its elements.\n",
    "4. Analyse and compare the so obtained graphs."
   ]
  },
  {
   "cell_type": "markdown",
   "metadata": {},
   "source": [
    "### Solution: Part 1"
   ]
  },
  {
   "cell_type": "code",
   "execution_count": 7,
   "metadata": {},
   "outputs": [
    {
     "name": "stdout",
     "output_type": "stream",
     "text": [
      "This tensor is of order 4 and consists of 81 elements.\n",
      "Sizes and names of its modes are (3, 3, 3, 3) and ['mode-0', 'mode-1', 'mode-2', 'mode-3'] respectively.\n"
     ]
    }
   ],
   "source": [
    "# Create a tensor\n",
    "t1 = Tensor(np.ones((3,3,3,3)))\n",
    "print(t1)"
   ]
  },
  {
   "cell_type": "code",
   "execution_count": 8,
   "metadata": {},
   "outputs": [
    {
     "data": {
      "text/plain": [
       "9.0"
      ]
     },
     "execution_count": 8,
     "metadata": {},
     "output_type": "execute_result"
    }
   ],
   "source": [
    "# Calculate Frobenious norm\n",
    "np.linalg.norm(t1.data)"
   ]
  },
  {
   "cell_type": "markdown",
   "metadata": {},
   "source": [
    "### Solution: Part 2"
   ]
  },
  {
   "cell_type": "code",
   "execution_count": 11,
   "metadata": {},
   "outputs": [],
   "source": [
    "# Create tensors and collect information\n",
    "element_counts = []\n",
    "orders = list(range(3,21))\n",
    "for i in orders:\n",
    "    dims = tuple(2*np.ones(i).astype('int'))\n",
    "    t_current = Tensor(np.zeros(dims))\n",
    "    element_counts.append(t_current.size)"
   ]
  },
  {
   "cell_type": "code",
   "execution_count": 13,
   "metadata": {},
   "outputs": [
    {
     "data": {
      "image/png": "[encoded data removed]",
      "text/plain": [
       "<Figure size 432x288 with 1 Axes>"
      ]
     },
     "metadata": {
      "needs_background": "light"
     },
     "output_type": "display_data"
    }
   ],
   "source": [
    "# Plot results\n",
    "fig = plt.figure()\n",
    "plt.plot(orders, element_counts)\n",
    "plt.xlabel('Tensor Order')\n",
    "plt.ylabel('Element Count')\n",
    "plt.title('Element Count vs. Tensor Order (dim=2)')\n",
    "plt.show()"
   ]
  },
  {
   "cell_type": "markdown",
   "metadata": {},
   "source": [
    "### Solution: Part 3"
   ]
  },
  {
   "cell_type": "code",
   "execution_count": 14,
   "metadata": {},
   "outputs": [],
   "source": [
    "# Create tensors and collect information\n",
    "element_counts = []\n",
    "orders = list(range(3,16))\n",
    "for i in orders:\n",
    "    dims = tuple(3*np.ones(i).astype('int'))\n",
    "    t_current = Tensor(np.zeros(dims))\n",
    "    element_counts.append(t_current.size)"
   ]
  },
  {
   "cell_type": "code",
   "execution_count": 15,
   "metadata": {},
   "outputs": [
    {
     "data": {
      "image/png": "[encoded data removed]",
      "text/plain": [
       "<Figure size 432x288 with 1 Axes>"
      ]
     },
     "metadata": {
      "needs_background": "light"
     },
     "output_type": "display_data"
    }
   ],
   "source": [
    "# Plot results\n",
    "fig = plt.figure()\n",
    "plt.plot(orders, element_counts)\n",
    "plt.xlabel('Tensor Order')\n",
    "plt.ylabel('Element Count')\n",
    "plt.title('Element Count vs. Tensor Order (dim=3)')\n",
    "plt.show()"
   ]
  },
  {
   "cell_type": "markdown",
   "metadata": {},
   "source": [
    "### Solution: Part 4"
   ]
  },
  {
   "cell_type": "markdown",
   "metadata": {},
   "source": [
    "As shown in the figures above, regardless of the size of each dimension, increasing tensor order (TO) results in an exponential increase in element count (EC), where $EC_{2}(TO) = 2^{TO}$ and $EC_{3}(TO) = 3^{TO}$. Additionally, the larger each dimension size is for a given tensor, the more rapid this exponential growth, as shown by the graphs, where even 5 orders of magnitude below, we get $\\frac{EC_{3}(15)}{EC_{3}(20)} \\approx 10$ and for large enough TO, $EC_{3}(TO) >> EC_{2}(TO)$."
   ]
  },
  {
   "cell_type": "markdown",
   "metadata": {
    "toc-hr-collapsed": false
   },
   "source": [
    "# Most common tensor substructures\n",
    "<img src=\"./imgs/tensor_substructures.png\" alt=\"Drawing\" style=\"width: 500px;\"/>\n",
    "\n",
    "1. A **fiber** is a vector obtained by fixing all but one of the indices, e.g.  $\\mathbf{\\underline{X}}[i,:,k]$ is the mode-2 fiber $\\mathbf{\\underline{X}}$ (usually refered to as row fiber). \n",
    "\n",
    "1. Fixing all but two of the indices yields a matrix called a **slice** of a tensor, e.g. $\\mathbf{\\underline{X}}[:,:,k]$ is the mode-[1,2] slice (usually refered to as the frontal slice).\n",
    "\n",
    "**Note:** The same principles and definitions can be applied to a tensor of an arbitrarily large order. In addition, you can obtain a **subtensor** by fixing at least three indices and letting the remaining ones vary."
   ]
  },
  {
   "cell_type": "code",
   "execution_count": 10,
   "metadata": {},
   "outputs": [
    {
     "data": {
      "text/plain": [
       "array([4, 5, 6, 7])"
      ]
     },
     "execution_count": 10,
     "metadata": {},
     "output_type": "execute_result"
    }
   ],
   "source": [
    "# Mode-2 fiber\n",
    "tensor.data[0,1,:]"
   ]
  },
  {
   "cell_type": "code",
   "execution_count": 11,
   "metadata": {},
   "outputs": [
    {
     "data": {
      "text/plain": [
       "array([[ 0,  1,  2,  3],\n",
       "       [ 4,  5,  6,  7],\n",
       "       [ 8,  9, 10, 11]])"
      ]
     },
     "execution_count": 11,
     "metadata": {},
     "output_type": "execute_result"
    }
   ],
   "source": [
    "# Frontal slice\n",
    "tensor.data[0,:,:]"
   ]
  },
  {
   "cell_type": "markdown",
   "metadata": {
    "toc-hr-collapsed": true
   },
   "source": [
    "## **Assigment 2**\n",
    "\n",
    "1. Create a tensor of order 4 which consists of 81 elements and display all its horizontal slices and any five row fibers.\n",
    "2. Create a tensor of order 3 and shape `(4,2,5)`, where the values of each consequent frontal slice are doubled."
   ]
  },
  {
   "cell_type": "markdown",
   "metadata": {},
   "source": [
    "### Solution: Part 1"
   ]
  },
  {
   "cell_type": "code",
   "execution_count": 17,
   "metadata": {},
   "outputs": [
    {
     "name": "stdout",
     "output_type": "stream",
     "text": [
      "This tensor is of order 3 and consists of 24 elements.\n",
      "Sizes and names of its modes are (2, 3, 4) and ['mode-0', 'mode-1', 'mode-2'] respectively.\n"
     ]
    }
   ],
   "source": [
    "# Create a tensor of order 4\n",
    "t1 = Tensor(np.ones((3,3,3,3)))\n",
    "print(tensor)"
   ]
  },
  {
   "cell_type": "code",
   "execution_count": 19,
   "metadata": {},
   "outputs": [
    {
     "name": "stdout",
     "output_type": "stream",
     "text": [
      "tensor(0,:,:,0)\n",
      "[[1. 1. 1.]\n",
      " [1. 1. 1.]\n",
      " [1. 1. 1.]]\n",
      "\n",
      "tensor(0,:,:,1)\n",
      "[[1. 1. 1.]\n",
      " [1. 1. 1.]\n",
      " [1. 1. 1.]]\n",
      "\n",
      "tensor(0,:,:,2)\n",
      "[[1. 1. 1.]\n",
      " [1. 1. 1.]\n",
      " [1. 1. 1.]]\n",
      "\n",
      "tensor(1,:,:,0)\n",
      "[[1. 1. 1.]\n",
      " [1. 1. 1.]\n",
      " [1. 1. 1.]]\n",
      "\n",
      "tensor(1,:,:,1)\n",
      "[[1. 1. 1.]\n",
      " [1. 1. 1.]\n",
      " [1. 1. 1.]]\n",
      "\n",
      "tensor(1,:,:,2)\n",
      "[[1. 1. 1.]\n",
      " [1. 1. 1.]\n",
      " [1. 1. 1.]]\n",
      "\n",
      "tensor(2,:,:,0)\n",
      "[[1. 1. 1.]\n",
      " [1. 1. 1.]\n",
      " [1. 1. 1.]]\n",
      "\n",
      "tensor(2,:,:,1)\n",
      "[[1. 1. 1.]\n",
      " [1. 1. 1.]\n",
      " [1. 1. 1.]]\n",
      "\n",
      "tensor(2,:,:,2)\n",
      "[[1. 1. 1.]\n",
      " [1. 1. 1.]\n",
      " [1. 1. 1.]]\n",
      "\n"
     ]
    }
   ],
   "source": [
    "# Display slices\n",
    "for i in range(0,3):\n",
    "    for j in range(0,3):\n",
    "        print('tensor({a},:,:,{b})'.format(a=i,b=j))\n",
    "        print(t1.data[i,:,:,j])\n",
    "        print()"
   ]
  },
  {
   "cell_type": "code",
   "execution_count": 20,
   "metadata": {},
   "outputs": [
    {
     "name": "stdout",
     "output_type": "stream",
     "text": [
      "tensor(0,:,0,1)\n",
      "[1. 1. 1.]\n",
      "\n",
      "tensor(0,:,1,1)\n",
      "[1. 1. 1.]\n",
      "\n",
      "tensor(0,:,2,1)\n",
      "[1. 1. 1.]\n",
      "\n",
      "tensor(1,:,0,1)\n",
      "[1. 1. 1.]\n",
      "\n",
      "tensor(1,:,1,1)\n",
      "[1. 1. 1.]\n",
      "\n"
     ]
    }
   ],
   "source": [
    "# Display fibers\n",
    "for (i,j) in [(0,0),(0,1),(0,2),(1,0),(1,1)]:\n",
    "    print('tensor({a},:,{b},1)'.format(a=i,b=j))\n",
    "    print(t1.data[i,:,j,1])\n",
    "    print()"
   ]
  },
  {
   "cell_type": "markdown",
   "metadata": {},
   "source": [
    "### Solution: Part 2"
   ]
  },
  {
   "cell_type": "code",
   "execution_count": 22,
   "metadata": {},
   "outputs": [
    {
     "name": "stdout",
     "output_type": "stream",
     "text": [
      "tensor(:,:,0)\n",
      "[[1. 1.]\n",
      " [1. 1.]\n",
      " [1. 1.]\n",
      " [1. 1.]]\n",
      "\n",
      "tensor(:,:,1)\n",
      "[[2. 2.]\n",
      " [2. 2.]\n",
      " [2. 2.]\n",
      " [2. 2.]]\n",
      "\n",
      "tensor(:,:,2)\n",
      "[[4. 4.]\n",
      " [4. 4.]\n",
      " [4. 4.]\n",
      " [4. 4.]]\n",
      "\n",
      "tensor(:,:,3)\n",
      "[[8. 8.]\n",
      " [8. 8.]\n",
      " [8. 8.]\n",
      " [8. 8.]]\n",
      "\n",
      "tensor(:,:,4)\n",
      "[[16. 16.]\n",
      " [16. 16.]\n",
      " [16. 16.]\n",
      " [16. 16.]]\n",
      "\n"
     ]
    }
   ],
   "source": [
    "# Create a tensor of order 3\n",
    "t2 = Tensor(np.ones((4,2,5)))\n",
    "\n",
    "# Display tensor frontal slices\n",
    "for i in range(0,5):\n",
    "    t2.data[:,:,i] *= 2**i\n",
    "    print('tensor(:,:,{})'.format(i))\n",
    "    print(t2.data[:,:,i])\n",
    "    print()"
   ]
  },
  {
   "cell_type": "markdown",
   "metadata": {
    "toc-hr-collapsed": false
   },
   "source": [
    "# Unfolding\n",
    "\n",
    "Conventionally, unfolding is considered to be a process of element mapping from a tensor to a matrix. In other words, it arranges the mode-$n$ fibers of a tensor to be the matrix columns. Thus, the mode-$n$ unfolding is denoted as:\n",
    "\n",
    "$$\\mathbf{\\underline{A}} \\xrightarrow{n} \\mathbf{A}_{(n)}$$\n",
    "\n",
    "Thus, this operations requires to specify a mode along which a tensor will be unfolded. For a third order tensor, a visual representation of such operation is as following\n",
    "\n",
    "<img src=\"./imgs/unfolding.png\" alt=\"Drawing\" style=\"width: 600px;\"/>\n",
    "\n",
    "In `hottbox` this functionality is available through the corresponding methods of the `Tensor` object, for instance:"
   ]
  },
  {
   "cell_type": "code",
   "execution_count": 16,
   "metadata": {},
   "outputs": [
    {
     "name": "stdout",
     "output_type": "stream",
     "text": [
      "This tensor is of order 2 and consists of 24 elements.\n",
      "Sizes and names of its modes are (2, 12) and ['mode-0', 'mode-1_mode-2'] respectively.\n"
     ]
    },
    {
     "data": {
      "text/plain": [
       "array([[ 0,  1,  2,  3,  4,  5,  6,  7,  8,  9, 10, 11],\n",
       "       [12, 13, 14, 15, 16, 17, 18, 19, 20, 21, 22, 23]])"
      ]
     },
     "execution_count": 16,
     "metadata": {},
     "output_type": "execute_result"
    }
   ],
   "source": [
    "# Create 3-d array of data\n",
    "array_3d = np.arange(24).reshape((2, 3, 4))\n",
    "\n",
    "# Create tensor\n",
    "tensor = Tensor(array_3d)\n",
    "\n",
    "# Unfolding of a tensor\n",
    "tensor.unfold(mode=0)\n",
    "\n",
    "# Result preview\n",
    "print(tensor)\n",
    "tensor.data"
   ]
  },
  {
   "cell_type": "markdown",
   "metadata": {
    "toc-hr-collapsed": true
   },
   "source": [
    "## **Assigment 3**\n",
    "\n",
    "1. Create a tensor, $\\mathbf{\\underline{A}}$, of order 4, in such a way that its version unfolded along the second mode would have sizes `(5,72)`, that is $\\mathbf{A}_{(n)} \\in  \\mathbb{R}^{5 \\times 72}$. Validate your results by displaying the unfolded tensor."
   ]
  },
  {
   "cell_type": "markdown",
   "metadata": {},
   "source": [
    "### Solution : Part 1"
   ]
  },
  {
   "cell_type": "code",
   "execution_count": 23,
   "metadata": {},
   "outputs": [
    {
     "name": "stdout",
     "output_type": "stream",
     "text": [
      "This tensor is of order 4 and consists of 360 elements.\n",
      "Sizes and names of its modes are (3, 5, 3, 8) and ['mode-0', 'mode-1', 'mode-2', 'mode-3'] respectively.\n"
     ]
    }
   ],
   "source": [
    "# Create a tensor\n",
    "t1 = Tensor(np.arange(3*5*3*8).reshape(3,5,3,8))\n",
    "print(t1)"
   ]
  },
  {
   "cell_type": "code",
   "execution_count": 24,
   "metadata": {},
   "outputs": [
    {
     "name": "stdout",
     "output_type": "stream",
     "text": [
      "This tensor is of order 2 and consists of 360 elements.\n",
      "Sizes and names of its modes are (5, 72) and ['mode-1', 'mode-0_mode-2_mode-3'] respectively.\n"
     ]
    },
    {
     "data": {
      "text/plain": [
       "array([[  0,   1,   2,   3,   4,   5,   6,   7,   8,   9,  10,  11,  12,\n",
       "         13,  14,  15,  16,  17,  18,  19,  20,  21,  22,  23, 120, 121,\n",
       "        122, 123, 124, 125, 126, 127, 128, 129, 130, 131, 132, 133, 134,\n",
       "        135, 136, 137, 138, 139, 140, 141, 142, 143, 240, 241, 242, 243,\n",
       "        244, 245, 246, 247, 248, 249, 250, 251, 252, 253, 254, 255, 256,\n",
       "        257, 258, 259, 260, 261, 262, 263],\n",
       "       [ 24,  25,  26,  27,  28,  29,  30,  31,  32,  33,  34,  35,  36,\n",
       "         37,  38,  39,  40,  41,  42,  43,  44,  45,  46,  47, 144, 145,\n",
       "        146, 147, 148, 149, 150, 151, 152, 153, 154, 155, 156, 157, 158,\n",
       "        159, 160, 161, 162, 163, 164, 165, 166, 167, 264, 265, 266, 267,\n",
       "        268, 269, 270, 271, 272, 273, 274, 275, 276, 277, 278, 279, 280,\n",
       "        281, 282, 283, 284, 285, 286, 287],\n",
       "       [ 48,  49,  50,  51,  52,  53,  54,  55,  56,  57,  58,  59,  60,\n",
       "         61,  62,  63,  64,  65,  66,  67,  68,  69,  70,  71, 168, 169,\n",
       "        170, 171, 172, 173, 174, 175, 176, 177, 178, 179, 180, 181, 182,\n",
       "        183, 184, 185, 186, 187, 188, 189, 190, 191, 288, 289, 290, 291,\n",
       "        292, 293, 294, 295, 296, 297, 298, 299, 300, 301, 302, 303, 304,\n",
       "        305, 306, 307, 308, 309, 310, 311],\n",
       "       [ 72,  73,  74,  75,  76,  77,  78,  79,  80,  81,  82,  83,  84,\n",
       "         85,  86,  87,  88,  89,  90,  91,  92,  93,  94,  95, 192, 193,\n",
       "        194, 195, 196, 197, 198, 199, 200, 201, 202, 203, 204, 205, 206,\n",
       "        207, 208, 209, 210, 211, 212, 213, 214, 215, 312, 313, 314, 315,\n",
       "        316, 317, 318, 319, 320, 321, 322, 323, 324, 325, 326, 327, 328,\n",
       "        329, 330, 331, 332, 333, 334, 335],\n",
       "       [ 96,  97,  98,  99, 100, 101, 102, 103, 104, 105, 106, 107, 108,\n",
       "        109, 110, 111, 112, 113, 114, 115, 116, 117, 118, 119, 216, 217,\n",
       "        218, 219, 220, 221, 222, 223, 224, 225, 226, 227, 228, 229, 230,\n",
       "        231, 232, 233, 234, 235, 236, 237, 238, 239, 336, 337, 338, 339,\n",
       "        340, 341, 342, 343, 344, 345, 346, 347, 348, 349, 350, 351, 352,\n",
       "        353, 354, 355, 356, 357, 358, 359]])"
      ]
     },
     "execution_count": 24,
     "metadata": {},
     "output_type": "execute_result"
    }
   ],
   "source": [
    "# Display unfolded version\n",
    "t1.unfold(mode=1)\n",
    "print(t1)\n",
    "t1.data"
   ]
  },
  {
   "cell_type": "markdown",
   "metadata": {
    "toc-hr-collapsed": false
   },
   "source": [
    "# Mode-n product \n",
    "<img src=\"./imgs/mode_n_product.png\" alt=\"Drawing\" style=\"width: 600px;\"/>\n",
    "\n",
    "The mode-$n$ product is a multiplication of a tensor  by a matrix along the $n^{th}$ mode of a tensor. This essentially means that each mode-$n$ fiber should be multiplied by this matrix. Mathematically, this can be expressed as:\n",
    "\n",
    "$$\\mathbf{\\underline{X}} \\times_n \\mathbf{A} = \\mathbf{\\underline{Y}} \\quad \\Leftrightarrow  \\quad \\mathbf{Y}_{(n)} = \\mathbf{A} \\mathbf{X}_{(n)}  $$"
   ]
  },
  {
   "cell_type": "code",
   "execution_count": 19,
   "metadata": {},
   "outputs": [
    {
     "name": "stdout",
     "output_type": "stream",
     "text": [
      "This tensor is of order 3 and consists of 40 elements.\n",
      "Sizes and names of its modes are (2, 5, 4) and ['mode-0', 'mode-1', 'mode-2'] respectively.\n"
     ]
    },
    {
     "data": {
      "text/plain": [
       "array([[ 20,  23,  26,  29,  56,  59,  62,  65],\n",
       "       [ 56,  68,  80,  92, 200, 212, 224, 236],\n",
       "       [ 92, 113, 134, 155, 344, 365, 386, 407],\n",
       "       [128, 158, 188, 218, 488, 518, 548, 578],\n",
       "       [164, 203, 242, 281, 632, 671, 710, 749]])"
      ]
     },
     "execution_count": 19,
     "metadata": {},
     "output_type": "execute_result"
    }
   ],
   "source": [
    "I, J, K = 2, 3, 4\n",
    "J_new = 5\n",
    "\n",
    "# Create tensor\n",
    "array_3d = np.arange(I * J * K).reshape(I, J ,K)\n",
    "X = Tensor(array_3d)\n",
    "\n",
    "# Create matrix\n",
    "A = np.arange(J_new * J).reshape(J_new, J)\n",
    "\n",
    "# Performs Mode-n product \n",
    "Y = X.mode_n_product(A, mode=1, inplace=False)\n",
    "\n",
    "# Preview of resulting tensor\n",
    "print(Y)\n",
    "\n",
    "# Preview of its unfolded version\n",
    "Y.unfold(mode=1, inplace=False).data"
   ]
  },
  {
   "cell_type": "markdown",
   "metadata": {
    "toc-hr-collapsed": true
   },
   "source": [
    "## **Assignment 4**\n",
    "\n",
    "1. Perform the mode-$n$ product of a 3-rd order tensor, $\\mathbf{\\underline{X}}$, with a matrix, $\\mathbf{A} \\in  \\mathbb{R}^{5 \\times 4}$, provided that the resulting tensor, $\\mathbf{\\underline{Y}}$, consists of `100` elements. Validate your results. \n",
    "\n",
    "> **Note:** You are encouraged to experiment with the optional parameter `inplace` and to investigate its effect on the result."
   ]
  },
  {
   "cell_type": "markdown",
   "metadata": {},
   "source": [
    "### Solution: Part 1"
   ]
  },
  {
   "cell_type": "code",
   "execution_count": 25,
   "metadata": {},
   "outputs": [
    {
     "name": "stdout",
     "output_type": "stream",
     "text": [
      "This tensor is of order 3 and consists of 80 elements.\n",
      "Sizes and names of its modes are (2, 4, 10) and ['mode-0', 'mode-1', 'mode-2'] respectively.\n"
     ]
    }
   ],
   "source": [
    "# Create original tensor \n",
    "t1 = Tensor(np.arange(2*4*10).reshape((2,4,10)))\n",
    "print(t1)"
   ]
  },
  {
   "cell_type": "code",
   "execution_count": 26,
   "metadata": {},
   "outputs": [],
   "source": [
    "# Create matrix\n",
    "A = np.arange(5*4).reshape((5,4))"
   ]
  },
  {
   "cell_type": "code",
   "execution_count": 29,
   "metadata": {},
   "outputs": [
    {
     "name": "stdout",
     "output_type": "stream",
     "text": [
      "This tensor is of order 3 and consists of 100 elements.\n",
      "Sizes and names of its modes are (2, 5, 10) and ['mode-0', 'mode-1', 'mode-2'] respectively.\n"
     ]
    }
   ],
   "source": [
    "# Perform mode-n product \n",
    "Y = t1.mode_n_product(A, mode=1, inplace=False)\n",
    "print(Y)"
   ]
  },
  {
   "cell_type": "code",
   "execution_count": 28,
   "metadata": {},
   "outputs": [
    {
     "data": {
      "text/plain": [
       "array([[ 140,  146,  152,  158,  164,  170,  176,  182,  188,  194,  380,\n",
       "         386,  392,  398,  404,  410,  416,  422,  428,  434],\n",
       "       [ 380,  402,  424,  446,  468,  490,  512,  534,  556,  578, 1260,\n",
       "        1282, 1304, 1326, 1348, 1370, 1392, 1414, 1436, 1458],\n",
       "       [ 620,  658,  696,  734,  772,  810,  848,  886,  924,  962, 2140,\n",
       "        2178, 2216, 2254, 2292, 2330, 2368, 2406, 2444, 2482],\n",
       "       [ 860,  914,  968, 1022, 1076, 1130, 1184, 1238, 1292, 1346, 3020,\n",
       "        3074, 3128, 3182, 3236, 3290, 3344, 3398, 3452, 3506],\n",
       "       [1100, 1170, 1240, 1310, 1380, 1450, 1520, 1590, 1660, 1730, 3900,\n",
       "        3970, 4040, 4110, 4180, 4250, 4320, 4390, 4460, 4530]])"
      ]
     },
     "execution_count": 28,
     "metadata": {},
     "output_type": "execute_result"
    }
   ],
   "source": [
    "# Validate equivalence between the left and right hand side\n",
    "Y.unfold(mode=1, inplace=False).data"
   ]
  },
  {
   "cell_type": "markdown",
   "metadata": {},
   "source": [
    "# Properties of mode-n product\n",
    "\n",
    "1. For distinct modes in a series of multiplications, the order of the multiplication is irrelevent: \n",
    "\n",
    "    $$\\mathbf{\\underline{X}} \\times_n \\mathbf{A} \\times_m \\mathbf{B} = \\mathbf{\\underline{X}} \\times_m \\mathbf{B} \\times_n \\mathbf{A} \\quad (m \\neq n)$$\n",
    "\n",
    "1. However, this does not hold if the modes are the same :\n",
    "\n",
    "    $$\\mathbf{\\underline{X}} \\times_n \\mathbf{A} \\times_n \\mathbf{B} = \\mathbf{\\underline{X}} \\times_n (\\mathbf{B}\\mathbf{A})$$"
   ]
  },
  {
   "cell_type": "markdown",
   "metadata": {
    "toc-hr-collapsed": true
   },
   "source": [
    "## **Assignment 5**\n",
    "\n",
    "1. Validate both of the above properties empirically \n",
    "2. Prove the second property analytically\n",
    "\n",
    "> **Note:** Be aware of consequences of the optional parameter `inplace` (its default value is set to `True`)."
   ]
  },
  {
   "cell_type": "markdown",
   "metadata": {},
   "source": [
    "### Solution: Part 1"
   ]
  },
  {
   "cell_type": "code",
   "execution_count": 31,
   "metadata": {},
   "outputs": [
    {
     "name": "stdout",
     "output_type": "stream",
     "text": [
      "This tensor is of order 3 and consists of 12 elements.\n",
      "Sizes and names of its modes are (2, 2, 3) and ['mode-0', 'mode-1', 'mode-2'] respectively.\n"
     ]
    }
   ],
   "source": [
    "# Create tensor\n",
    "X = Tensor(np.arange(12).reshape((2,2,3)))\n",
    "print(X)"
   ]
  },
  {
   "cell_type": "code",
   "execution_count": 32,
   "metadata": {},
   "outputs": [],
   "source": [
    "# Create matrices\n",
    "A = np.arange(10).reshape(5,2)\n",
    "B1 = np.arange(6).reshape(3,2)\n",
    "B2 = np.arange(10).reshape(2,5)"
   ]
  },
  {
   "cell_type": "code",
   "execution_count": 33,
   "metadata": {},
   "outputs": [
    {
     "name": "stdout",
     "output_type": "stream",
     "text": [
      "This tensor is of order 3 and consists of 45 elements.\n",
      "Sizes and names of its modes are (5, 3, 3) and ['mode-0', 'mode-1', 'mode-2'] respectively.\n",
      "[[[   9   10   11]\n",
      "  [  39   44   49]\n",
      "  [  69   78   87]]\n",
      "\n",
      " [[  33   38   43]\n",
      "  [ 135  160  185]\n",
      "  [ 237  282  327]]\n",
      "\n",
      " [[  57   66   75]\n",
      "  [ 231  276  321]\n",
      "  [ 405  486  567]]\n",
      "\n",
      " [[  81   94  107]\n",
      "  [ 327  392  457]\n",
      "  [ 573  690  807]]\n",
      "\n",
      " [[ 105  122  139]\n",
      "  [ 423  508  593]\n",
      "  [ 741  894 1047]]]\n",
      "This tensor is of order 3 and consists of 45 elements.\n",
      "Sizes and names of its modes are (5, 3, 3) and ['mode-0', 'mode-1', 'mode-2'] respectively.\n",
      "[[[   9   10   11]\n",
      "  [  39   44   49]\n",
      "  [  69   78   87]]\n",
      "\n",
      " [[  33   38   43]\n",
      "  [ 135  160  185]\n",
      "  [ 237  282  327]]\n",
      "\n",
      " [[  57   66   75]\n",
      "  [ 231  276  321]\n",
      "  [ 405  486  567]]\n",
      "\n",
      " [[  81   94  107]\n",
      "  [ 327  392  457]\n",
      "  [ 573  690  807]]\n",
      "\n",
      " [[ 105  122  139]\n",
      "  [ 423  508  593]\n",
      "  [ 741  894 1047]]]\n"
     ]
    }
   ],
   "source": [
    "# Validate property 1\n",
    "Y1 = X.mode_n_product(A, mode=0, inplace=False) # Different modes\n",
    "Y1 = Y1.mode_n_product(B1, mode=1, inplace=False)\n",
    "Y2 = X.mode_n_product(B1, mode=1, inplace=False)\n",
    "Y2 = Y2.mode_n_product(A, mode=0, inplace=False)\n",
    "# Display results\n",
    "print(Y1)\n",
    "print(Y1.data)\n",
    "print(Y2)\n",
    "print(Y2.data)"
   ]
  },
  {
   "cell_type": "code",
   "execution_count": 35,
   "metadata": {},
   "outputs": [
    {
     "name": "stdout",
     "output_type": "stream",
     "text": [
      "This tensor is of order 3 and consists of 12 elements.\n",
      "Sizes and names of its modes are (2, 2, 3) and ['mode-0', 'mode-1', 'mode-2'] respectively.\n",
      "[[[ 420  550  680]\n",
      "  [ 810  940 1070]]\n",
      "\n",
      " [[1170 1525 1880]\n",
      "  [2235 2590 2945]]]\n",
      "This tensor is of order 3 and consists of 12 elements.\n",
      "Sizes and names of its modes are (2, 2, 3) and ['mode-0', 'mode-1', 'mode-2'] respectively.\n",
      "[[[ 420  550  680]\n",
      "  [ 810  940 1070]]\n",
      "\n",
      " [[1170 1525 1880]\n",
      "  [2235 2590 2945]]]\n"
     ]
    }
   ],
   "source": [
    "# Validate property 2\n",
    "Y3 = X.mode_n_product(A, mode=0, inplace=False) # Different modes\n",
    "Y3 = Y3.mode_n_product(B2, mode=0, inplace=False)\n",
    "Y4 = X.mode_n_product(np.matmul(B2,A), mode=0, inplace=False)\n",
    "# Display results\n",
    "print(Y3)\n",
    "print(Y3.data)\n",
    "print(Y4)\n",
    "print(Y4.data)"
   ]
  },
  {
   "cell_type": "markdown",
   "metadata": {
    "toc-hr-collapsed": true
   },
   "source": [
    "### Solution: Part 2\n",
    "\n",
    "Use [LaTeX syntax](https://stackoverflow.com/questions/13208286/how-to-write-latex-in-ipython-notebook) for analytical deriviations for the second property below.\n"
   ]
  },
  {
   "cell_type": "code",
   "execution_count": 39,
   "metadata": {},
   "outputs": [
    {
     "data": {
      "text/latex": [
       "\n",
       "As shown empirically, while the order of consecutive mode-n multiplications can be reversed given each operation\n",
       "acts upon a different mode, when both act on the same mode this is not the case, and instead the operation can be\n",
       "obtained by carrying out mode-n multiplication with the product of the two matrices (opposite order). Consider a \n",
       "tensor $\\mathbf{\\underline{X}}_{d_{1} \\times d_{2} \\times ... \\times d_{TO}}$ and two matrices $\\mathbf{A}_{m \\times k}$\n",
       "and $\\mathbf{B}_{p \\times m}$. Each mode-n multiplication with a matrix can be viewed as applying the linear transformation\n",
       "of the matrix to each of the mode-n fibers of the tensor, resulting in new fibers of different dimension sizes (unless\n",
       "a square matrix is used). Therefore, the operation $\\mathbf{\\underline{X}} \\times_{n} \\mathbf{A} \\times_{n} \\mathbf{B}$ can\n",
       "be carried out as long as $d_{n} = k$, where the first step of the operation results in a tensor with dimension $m$ where \n",
       "before it was $d_{n}$. Furthermore, the next step can only be carried out because the second dimension of $\\mathbf{B}$\n",
       "is also $m$. If the operation was attempted in the reverse order ($\\mathbf{\\underline{X}} \\times_{n} \\mathbf{B} \\times_{n} \\mathbf{A}$),\n",
       "the dimensions would be inconsistent and the operation would not be possible, proving the first step by contradiction.                     \n"
      ],
      "text/plain": [
       "<IPython.core.display.Latex object>"
      ]
     },
     "metadata": {},
     "output_type": "display_data"
    }
   ],
   "source": [
    "%%latex\n",
    "\n",
    "As shown empirically, while the order of consecutive mode-n multiplications can be reversed given each operation\n",
    "acts upon a different mode, when both act on the same mode this is not the case, and instead the operation can be\n",
    "obtained by carrying out mode-n multiplication with the product of the two matrices (opposite order). Consider a \n",
    "tensor $\\mathbf{\\underline{X}}_{d_{1} \\times d_{2} \\times ... \\times d_{TO}}$ and two matrices $\\mathbf{A}_{m \\times k}$\n",
    "and $\\mathbf{B}_{p \\times m}$. Each mode-n multiplication with a matrix can be viewed as applying the linear transformation\n",
    "of the matrix to each of the mode-n fibers of the tensor, resulting in new fibers of different dimension sizes (unless\n",
    "a square matrix is used). Therefore, the operation $\\mathbf{\\underline{X}} \\times_{n} \\mathbf{A} \\times_{n} \\mathbf{B}$ can\n",
    "be carried out as long as $d_{n} = k$, where the first step of the operation results in a tensor with dimension $m$ where \n",
    "before it was $d_{n}$. Furthermore, the next step can only be carried out because the second dimension of $\\mathbf{B}$\n",
    "is also $m$. If the operation was attempted in the reverse order ($\\mathbf{\\underline{X}} \\times_{n} \\mathbf{B} \\times_{n} \\mathbf{A}$),\n",
    "the dimensions would be inconsistent and the operation would not be possible, proving the first step by contradiction.                     "
   ]
  },
  {
   "cell_type": "code",
   "execution_count": 43,
   "metadata": {},
   "outputs": [
    {
     "data": {
      "text/latex": [
       "\n",
       "Furthermore, from the point of view of mode-n multiplication being treated as a linear transformation applied to all\n",
       "the mode-n fibers, we can consider the effect of each mode-n multiplication step on a single mode fibre (assumiming consistent matrices).\n",
       "For a given matrix, $\\mathbf{A}$, the first mode-n multiplication would result in the output mode fibers shown below:\n",
       "$$ \\mathbf{x}_{m} = \\mathbf{A}\\mathbf{x}_{d_{n}} $$\n",
       "Following a similar logic, the second mode-n multiplication would result in the output mode fibers in form shown below:\n",
       "$$ \\mathbf{x}_{p} = \\mathbf{B}\\mathbf{x}_{m} = \\mathbf{B}\\mathbf{A}\\mathbf{x}_{d_{n}} =  (\\mathbf{B}\\mathbf{A})\\mathbf{x}_{d_{n}} $$\n"
      ],
      "text/plain": [
       "<IPython.core.display.Latex object>"
      ]
     },
     "metadata": {},
     "output_type": "display_data"
    }
   ],
   "source": [
    "%%latex\n",
    "\n",
    "Furthermore, from the point of view of mode-n multiplication being treated as a linear transformation applied to all\n",
    "the mode-n fibers, we can consider the effect of each mode-n multiplication step on a single mode fibre (assumiming consistent matrices).\n",
    "For a given matrix, $\\mathbf{A}$, the first mode-n multiplication would result in the output mode fibers shown below:\n",
    "$$ \\mathbf{x}_{m} = \\mathbf{A}\\mathbf{x}_{d_{n}} $$\n",
    "Following a similar logic, the second mode-n multiplication would result in the output mode fibers in form shown below:\n",
    "$$ \\mathbf{x}_{p} = \\mathbf{B}\\mathbf{x}_{m} = \\mathbf{B}\\mathbf{A}\\mathbf{x}_{d_{n}} =  (\\mathbf{B}\\mathbf{A})\\mathbf{x}_{d_{n}} $$\n"
   ]
  },
  {
   "cell_type": "code",
   "execution_count": null,
   "metadata": {},
   "outputs": [],
   "source": []
  }
 ],
 "metadata": {
  "kernelspec": {
   "display_name": "dpm-coursework",
   "language": "python",
   "name": "dpm-coursework"
  },
  "language_info": {
   "codemirror_mode": {
    "name": "ipython",
    "version": 3
   },
   "file_extension": ".py",
   "mimetype": "text/x-python",
   "name": "python",
   "nbconvert_exporter": "python",
   "pygments_lexer": "ipython3",
   "version": "3.7.10"
  },
  "toc-autonumbering": false,
  "toc-showcode": false,
  "toc-showmarkdowntxt": false
 },
 "nbformat": 4,
 "nbformat_minor": 4
}
